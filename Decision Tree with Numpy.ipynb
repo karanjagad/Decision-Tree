{
 "cells": [
  {
   "cell_type": "code",
   "execution_count": 1,
   "metadata": {},
   "outputs": [],
   "source": [
    "# Following implementation is inspired by: http://gabrielelanaro.github.io/blog/2016/03/03/decision-trees.html\n",
    "import numpy as np"
   ]
  },
  {
   "cell_type": "code",
   "execution_count": 2,
   "metadata": {},
   "outputs": [],
   "source": [
    "# Training dataset\n",
    "# x1 atmospheric pressure\n",
    "x1 = ['high', 'high', 'low', 'low', 'low', 'high']  \n",
    "# x2 is weather type\n",
    "x2 = ['partly cloudy', 'sunny', 'sunny', 'cloudy', 'cloudy', 'cloudy']  \n",
    "X = np.array([x1, x2]).T\n",
    "y = np.array([False, False, True, False, False, True]) # rain (True) and no-rain (False)"
   ]
  },
  {
   "cell_type": "code",
   "execution_count": 3,
   "metadata": {},
   "outputs": [
    {
     "data": {
      "text/plain": [
       "array([['high', 'partly cloudy'],\n",
       "       ['high', 'sunny'],\n",
       "       ['low', 'sunny'],\n",
       "       ['low', 'cloudy'],\n",
       "       ['low', 'cloudy'],\n",
       "       ['high', 'cloudy']], dtype='<U13')"
      ]
     },
     "execution_count": 3,
     "metadata": {},
     "output_type": "execute_result"
    }
   ],
   "source": [
    "X # features"
   ]
  },
  {
   "cell_type": "code",
   "execution_count": 4,
   "metadata": {},
   "outputs": [
    {
     "data": {
      "text/plain": [
       "array([False, False,  True, False, False,  True])"
      ]
     },
     "execution_count": 4,
     "metadata": {},
     "output_type": "execute_result"
    }
   ],
   "source": [
    "y # labels"
   ]
  },
  {
   "cell_type": "code",
   "execution_count": 5,
   "metadata": {},
   "outputs": [
    {
     "name": "stdout",
     "output_type": "stream",
     "text": [
      "x_1 = cloudy:\n",
      " x_0 = high: True\n",
      " x_0 = low: False\n",
      "x_1 = partly cloudy: False\n",
      "x_1 = sunny:\n",
      " x_0 = high: False\n",
      " x_0 = low: True\n"
     ]
    }
   ],
   "source": [
    "# Splitting a set\n",
    "# Input is an array of feature observations and output is a dictionary with \"unique feature value\" as key and indices as value\n",
    "def partition(a):\n",
    "    return {c: (a==c).nonzero()[0] for c in np.unique(a)}\n",
    "\n",
    "# Picking which attribute to split\n",
    "# Calculate entropy of a list\n",
    "def entropy(s):\n",
    "    res = 0\n",
    "    val, counts = np.unique(s, return_counts=True)\n",
    "    freqs = counts.astype('float')/len(s)\n",
    "    for p in freqs:\n",
    "        if p != 0.0:\n",
    "            res -= p * np.log2(p)\n",
    "    return res\n",
    "\n",
    "# Calculate decrease in impurity (information gains)\n",
    "# \n",
    "def mutual_information(y, x):\n",
    "    \n",
    "    # Calculate entropy of observation classes\n",
    "    res = entropy(y)\n",
    "\n",
    "    # We partition x, according to attribute values x_i\n",
    "    val, counts = np.unique(x, return_counts=True)\n",
    "    freqs = counts.astype('float')/len(x)\n",
    "\n",
    "    # We calculate a weighted average of the entropy and subtract it from parent entropy\n",
    "    for p, v in zip(freqs, val):\n",
    "        res -= p * entropy(y[x == v])\n",
    "\n",
    "    return res\n",
    "\n",
    "# Checks for pureness of elements in a list\n",
    "def is_pure(s):\n",
    "    return len(set(s)) == 1\n",
    "\n",
    "# Helper function to print decision tree\n",
    "def print_tree(d, depth = 0):\n",
    "    for key, value in d.items():\n",
    "        for i in range(depth):\n",
    "                print(' ', end='')\n",
    "        if type(value) is dict:\n",
    "            print(key, end=':\\n')\n",
    "            print_tree(value, depth + 1)\n",
    "        else:\n",
    "            print(key, end=': ')\n",
    "            print(value)\n",
    "            \n",
    "# Get the most common element of an array\n",
    "def most_common(a):\n",
    "    (values,counts) = np.unique(a,return_counts=True)\n",
    "    ind=np.argmax(counts)\n",
    "    return values[ind]\n",
    "\n",
    "# Recursive split of observations\n",
    "def recursive_split(x, y):\n",
    "    \n",
    "    # If set to be split is pure or empty, return it as leaf\n",
    "    if is_pure(y) or len(y) == 0:\n",
    "        return most_common(y)\n",
    "\n",
    "    # Calculate decrease in impurity (information gain) and split attribute with maximum gain\n",
    "    gain = np.array([mutual_information(y, x_attr) for x_attr in x.T])\n",
    "    selected_attr = np.argmax(gain)\n",
    "\n",
    "    # Sufficiently pure, return it as leaf\n",
    "    if np.all(gain < 1e-6):\n",
    "        return most_common(y)\n",
    "\n",
    "    # Split using the selected attribute\n",
    "    sets = partition(x[:, selected_attr])\n",
    "\n",
    "    # Perform recursive splits and collect results\n",
    "    res = {}\n",
    "    for key, value in sets.items():\n",
    "        y_subset = y.take(value, axis=0)\n",
    "        x_subset = x.take(value, axis=0)\n",
    "        res[\"x_%d = %s\" % (selected_attr, key)] = recursive_split(x_subset, y_subset)\n",
    "\n",
    "    return res\n",
    "\n",
    "# Perform algorithm on the example dataset to create a decision tree\n",
    "d = recursive_split(X, y)\n",
    "print_tree(d)"
   ]
  },
  {
   "cell_type": "code",
   "execution_count": 6,
   "metadata": {},
   "outputs": [],
   "source": [
    "# New dataset (which shall be classified by the above generated decision tree)\n",
    "x1 = ['high', 'low', 'low', 'high', 'low', 'high', 'high', 'low', 'low', 'high', 'low', 'low']\n",
    "x2 = ['sunny', 'sunny', 'cloudy', 'cloudy', 'partly cloudy', 'cloudy', 'partly cloudy', 'cloudy', 'sunny', 'cloudy', 'cloudy', 'partly cloudy']\n",
    "X = np.array([x1, x2]).T\n",
    "y = np.array([False, True, True, False, False, True, False, True, True, False, True, True]) # ground-truth of classification"
   ]
  },
  {
   "cell_type": "code",
   "execution_count": 7,
   "metadata": {},
   "outputs": [
    {
     "data": {
      "text/html": [
       "<style  type=\"text/css\" >\n",
       "</style><table id=\"T_852b368a_5f65_11eb_8fe0_30c9ab9a984e\" ><thead>    <tr>        <th class=\"blank level0\" ></th>        <th class=\"col_heading level0 col0\" >atmospheric pressure</th>        <th class=\"col_heading level0 col1\" >weather type</th>        <th class=\"col_heading level0 col2\" >Predicted Class</th>        <th class=\"col_heading level0 col3\" >Ground truth</th>    </tr></thead><tbody>\n",
       "                <tr>\n",
       "                        <th id=\"T_852b368a_5f65_11eb_8fe0_30c9ab9a984elevel0_row0\" class=\"row_heading level0 row0\" >0</th>\n",
       "                        <td id=\"T_852b368a_5f65_11eb_8fe0_30c9ab9a984erow0_col0\" class=\"data row0 col0\" >high</td>\n",
       "                        <td id=\"T_852b368a_5f65_11eb_8fe0_30c9ab9a984erow0_col1\" class=\"data row0 col1\" >sunny</td>\n",
       "                        <td id=\"T_852b368a_5f65_11eb_8fe0_30c9ab9a984erow0_col2\" class=\"data row0 col2\" >False</td>\n",
       "                        <td id=\"T_852b368a_5f65_11eb_8fe0_30c9ab9a984erow0_col3\" class=\"data row0 col3\" >False</td>\n",
       "            </tr>\n",
       "            <tr>\n",
       "                        <th id=\"T_852b368a_5f65_11eb_8fe0_30c9ab9a984elevel0_row1\" class=\"row_heading level0 row1\" >1</th>\n",
       "                        <td id=\"T_852b368a_5f65_11eb_8fe0_30c9ab9a984erow1_col0\" class=\"data row1 col0\" >low</td>\n",
       "                        <td id=\"T_852b368a_5f65_11eb_8fe0_30c9ab9a984erow1_col1\" class=\"data row1 col1\" >sunny</td>\n",
       "                        <td id=\"T_852b368a_5f65_11eb_8fe0_30c9ab9a984erow1_col2\" class=\"data row1 col2\" >True</td>\n",
       "                        <td id=\"T_852b368a_5f65_11eb_8fe0_30c9ab9a984erow1_col3\" class=\"data row1 col3\" >True</td>\n",
       "            </tr>\n",
       "            <tr>\n",
       "                        <th id=\"T_852b368a_5f65_11eb_8fe0_30c9ab9a984elevel0_row2\" class=\"row_heading level0 row2\" >2</th>\n",
       "                        <td id=\"T_852b368a_5f65_11eb_8fe0_30c9ab9a984erow2_col0\" class=\"data row2 col0\" >low</td>\n",
       "                        <td id=\"T_852b368a_5f65_11eb_8fe0_30c9ab9a984erow2_col1\" class=\"data row2 col1\" >cloudy</td>\n",
       "                        <td id=\"T_852b368a_5f65_11eb_8fe0_30c9ab9a984erow2_col2\" class=\"data row2 col2\" >False</td>\n",
       "                        <td id=\"T_852b368a_5f65_11eb_8fe0_30c9ab9a984erow2_col3\" class=\"data row2 col3\" >True</td>\n",
       "            </tr>\n",
       "            <tr>\n",
       "                        <th id=\"T_852b368a_5f65_11eb_8fe0_30c9ab9a984elevel0_row3\" class=\"row_heading level0 row3\" >3</th>\n",
       "                        <td id=\"T_852b368a_5f65_11eb_8fe0_30c9ab9a984erow3_col0\" class=\"data row3 col0\" >high</td>\n",
       "                        <td id=\"T_852b368a_5f65_11eb_8fe0_30c9ab9a984erow3_col1\" class=\"data row3 col1\" >cloudy</td>\n",
       "                        <td id=\"T_852b368a_5f65_11eb_8fe0_30c9ab9a984erow3_col2\" class=\"data row3 col2\" >True</td>\n",
       "                        <td id=\"T_852b368a_5f65_11eb_8fe0_30c9ab9a984erow3_col3\" class=\"data row3 col3\" >False</td>\n",
       "            </tr>\n",
       "            <tr>\n",
       "                        <th id=\"T_852b368a_5f65_11eb_8fe0_30c9ab9a984elevel0_row4\" class=\"row_heading level0 row4\" >4</th>\n",
       "                        <td id=\"T_852b368a_5f65_11eb_8fe0_30c9ab9a984erow4_col0\" class=\"data row4 col0\" >low</td>\n",
       "                        <td id=\"T_852b368a_5f65_11eb_8fe0_30c9ab9a984erow4_col1\" class=\"data row4 col1\" >partly cloudy</td>\n",
       "                        <td id=\"T_852b368a_5f65_11eb_8fe0_30c9ab9a984erow4_col2\" class=\"data row4 col2\" >False</td>\n",
       "                        <td id=\"T_852b368a_5f65_11eb_8fe0_30c9ab9a984erow4_col3\" class=\"data row4 col3\" >False</td>\n",
       "            </tr>\n",
       "            <tr>\n",
       "                        <th id=\"T_852b368a_5f65_11eb_8fe0_30c9ab9a984elevel0_row5\" class=\"row_heading level0 row5\" >5</th>\n",
       "                        <td id=\"T_852b368a_5f65_11eb_8fe0_30c9ab9a984erow5_col0\" class=\"data row5 col0\" >high</td>\n",
       "                        <td id=\"T_852b368a_5f65_11eb_8fe0_30c9ab9a984erow5_col1\" class=\"data row5 col1\" >cloudy</td>\n",
       "                        <td id=\"T_852b368a_5f65_11eb_8fe0_30c9ab9a984erow5_col2\" class=\"data row5 col2\" >True</td>\n",
       "                        <td id=\"T_852b368a_5f65_11eb_8fe0_30c9ab9a984erow5_col3\" class=\"data row5 col3\" >True</td>\n",
       "            </tr>\n",
       "            <tr>\n",
       "                        <th id=\"T_852b368a_5f65_11eb_8fe0_30c9ab9a984elevel0_row6\" class=\"row_heading level0 row6\" >6</th>\n",
       "                        <td id=\"T_852b368a_5f65_11eb_8fe0_30c9ab9a984erow6_col0\" class=\"data row6 col0\" >high</td>\n",
       "                        <td id=\"T_852b368a_5f65_11eb_8fe0_30c9ab9a984erow6_col1\" class=\"data row6 col1\" >partly cloudy</td>\n",
       "                        <td id=\"T_852b368a_5f65_11eb_8fe0_30c9ab9a984erow6_col2\" class=\"data row6 col2\" >False</td>\n",
       "                        <td id=\"T_852b368a_5f65_11eb_8fe0_30c9ab9a984erow6_col3\" class=\"data row6 col3\" >False</td>\n",
       "            </tr>\n",
       "            <tr>\n",
       "                        <th id=\"T_852b368a_5f65_11eb_8fe0_30c9ab9a984elevel0_row7\" class=\"row_heading level0 row7\" >7</th>\n",
       "                        <td id=\"T_852b368a_5f65_11eb_8fe0_30c9ab9a984erow7_col0\" class=\"data row7 col0\" >low</td>\n",
       "                        <td id=\"T_852b368a_5f65_11eb_8fe0_30c9ab9a984erow7_col1\" class=\"data row7 col1\" >cloudy</td>\n",
       "                        <td id=\"T_852b368a_5f65_11eb_8fe0_30c9ab9a984erow7_col2\" class=\"data row7 col2\" >False</td>\n",
       "                        <td id=\"T_852b368a_5f65_11eb_8fe0_30c9ab9a984erow7_col3\" class=\"data row7 col3\" >True</td>\n",
       "            </tr>\n",
       "            <tr>\n",
       "                        <th id=\"T_852b368a_5f65_11eb_8fe0_30c9ab9a984elevel0_row8\" class=\"row_heading level0 row8\" >8</th>\n",
       "                        <td id=\"T_852b368a_5f65_11eb_8fe0_30c9ab9a984erow8_col0\" class=\"data row8 col0\" >low</td>\n",
       "                        <td id=\"T_852b368a_5f65_11eb_8fe0_30c9ab9a984erow8_col1\" class=\"data row8 col1\" >sunny</td>\n",
       "                        <td id=\"T_852b368a_5f65_11eb_8fe0_30c9ab9a984erow8_col2\" class=\"data row8 col2\" >True</td>\n",
       "                        <td id=\"T_852b368a_5f65_11eb_8fe0_30c9ab9a984erow8_col3\" class=\"data row8 col3\" >True</td>\n",
       "            </tr>\n",
       "            <tr>\n",
       "                        <th id=\"T_852b368a_5f65_11eb_8fe0_30c9ab9a984elevel0_row9\" class=\"row_heading level0 row9\" >9</th>\n",
       "                        <td id=\"T_852b368a_5f65_11eb_8fe0_30c9ab9a984erow9_col0\" class=\"data row9 col0\" >high</td>\n",
       "                        <td id=\"T_852b368a_5f65_11eb_8fe0_30c9ab9a984erow9_col1\" class=\"data row9 col1\" >cloudy</td>\n",
       "                        <td id=\"T_852b368a_5f65_11eb_8fe0_30c9ab9a984erow9_col2\" class=\"data row9 col2\" >True</td>\n",
       "                        <td id=\"T_852b368a_5f65_11eb_8fe0_30c9ab9a984erow9_col3\" class=\"data row9 col3\" >False</td>\n",
       "            </tr>\n",
       "            <tr>\n",
       "                        <th id=\"T_852b368a_5f65_11eb_8fe0_30c9ab9a984elevel0_row10\" class=\"row_heading level0 row10\" >10</th>\n",
       "                        <td id=\"T_852b368a_5f65_11eb_8fe0_30c9ab9a984erow10_col0\" class=\"data row10 col0\" >low</td>\n",
       "                        <td id=\"T_852b368a_5f65_11eb_8fe0_30c9ab9a984erow10_col1\" class=\"data row10 col1\" >cloudy</td>\n",
       "                        <td id=\"T_852b368a_5f65_11eb_8fe0_30c9ab9a984erow10_col2\" class=\"data row10 col2\" >False</td>\n",
       "                        <td id=\"T_852b368a_5f65_11eb_8fe0_30c9ab9a984erow10_col3\" class=\"data row10 col3\" >True</td>\n",
       "            </tr>\n",
       "            <tr>\n",
       "                        <th id=\"T_852b368a_5f65_11eb_8fe0_30c9ab9a984elevel0_row11\" class=\"row_heading level0 row11\" >11</th>\n",
       "                        <td id=\"T_852b368a_5f65_11eb_8fe0_30c9ab9a984erow11_col0\" class=\"data row11 col0\" >low</td>\n",
       "                        <td id=\"T_852b368a_5f65_11eb_8fe0_30c9ab9a984erow11_col1\" class=\"data row11 col1\" >partly cloudy</td>\n",
       "                        <td id=\"T_852b368a_5f65_11eb_8fe0_30c9ab9a984erow11_col2\" class=\"data row11 col2\" >False</td>\n",
       "                        <td id=\"T_852b368a_5f65_11eb_8fe0_30c9ab9a984erow11_col3\" class=\"data row11 col3\" >True</td>\n",
       "            </tr>\n",
       "    </tbody></table>"
      ],
      "text/plain": [
       "<pandas.io.formats.style.Styler at 0x21b5441cd00>"
      ]
     },
     "execution_count": 7,
     "metadata": {},
     "output_type": "execute_result"
    }
   ],
   "source": [
    "# 1.2) Predicting the classes of new Dataset based on splitting algoithm used in tree D\n",
    "import pandas as pd\n",
    "\n",
    "#Function for prediction of class which takes input as numpy array of test dataset and returns predicted classes\n",
    "def predictClass(X):\n",
    "    predicted = []\n",
    "    for X0,X1 in X:\n",
    "        key = \"x_1 = \"+X1\n",
    "        if key in d.keys():\n",
    "            if type(d[key]) is dict:\n",
    "                X0_dict = d[key]\n",
    "                key = \"x_0 = \"+X0\n",
    "                predicted.append(X0_dict[key])\n",
    "            else:\n",
    "                predicted.append(d[key])\n",
    "                \n",
    "    predicted = np.array(predicted)\n",
    "    return predicted\n",
    "\n",
    "predicted = predictClass(X) ##Calling function predictClass.\n",
    "\n",
    "wether = {'atmospheric pressure':x1, 'weather type':x2, 'Predicted Class':predicted, 'Ground truth': y}\n",
    "wetherDF = pd.DataFrame(wether)\n",
    "wetherDF.style"
   ]
  },
  {
   "cell_type": "code",
   "execution_count": 8,
   "metadata": {},
   "outputs": [
    {
     "name": "stdout",
     "output_type": "stream",
     "text": [
      "The overall error rate is  50.0 %\n"
     ]
    }
   ],
   "source": [
    "#1.3) Calculating the overall Error rate\n",
    "\n",
    "error = 0\n",
    "for p,actual in zip(predicted,y):\n",
    "    if p!=actual:\n",
    "        error+=1\n",
    "errorRate = error/len(y)\n",
    "print(\"The overall error rate is \" , errorRate*100, \"%\")"
   ]
  }
 ],
 "metadata": {
  "kernelspec": {
   "display_name": "Python 3",
   "language": "python",
   "name": "python3"
  },
  "language_info": {
   "codemirror_mode": {
    "name": "ipython",
    "version": 3
   },
   "file_extension": ".py",
   "mimetype": "text/x-python",
   "name": "python",
   "nbconvert_exporter": "python",
   "pygments_lexer": "ipython3",
   "version": "3.8.5"
  }
 },
 "nbformat": 4,
 "nbformat_minor": 2
}
